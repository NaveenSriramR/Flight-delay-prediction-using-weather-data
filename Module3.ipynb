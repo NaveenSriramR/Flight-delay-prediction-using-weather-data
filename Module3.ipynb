{
 "cells": [
  {
   "cell_type": "markdown",
   "metadata": {},
   "source": [
    "# Python Basics"
   ]
  },
  {
   "cell_type": "markdown",
   "metadata": {},
   "source": [
    "These assignments aim to get you acquainted with Python, which is an important requirement for all the research done at Solarillion Foundation. Apart from teaching you Python, these assignments also aim to make you a better programmer and cultivate better coding practices. \n",
    "\n",
    "Visit these links for more details: <br>\n",
    "PEP8 Practices: https://www.python.org/dev/peps/pep-0008/ <br>\n",
    "Check PEP8: http://pep8online.com <br>\n",
    "Python Reference: https://www.py4e.com/lessons <br>\n",
    "\n",
    "Do use Google efficiently, and refer to StackOverflow for clarifying any programming doubts. If you're still stuck, feel free to ask a TA to help you.\n",
    "\n",
    "Each task in the assignment comprises of at least two cells. There are function definitions wherein you will name the function(s), and write code to solve the problem at hand. You will call the function(s) in the last cell of each task, and check your output.\n",
    "\n",
    "We encourage you to play around and learn as much as possible, and be as creative as you can get. More than anything, have fun doing these assignments. Enjoy!"
   ]
  },
  {
   "cell_type": "markdown",
   "metadata": {},
   "source": [
    "# Important\n",
    "* **Only the imports and functions must be present when you upload this notebook to GitHub for verification.** \n",
    "* **Do not upload it until you want to get it verified. Do not change function names or add extra cells or code, or remove anything.**\n",
    "* **For your rough work and four showing your code to TAs, use a different notebook with the name Module2Playground.ipynb and copy only the final functions to this notebook for verification.**"
   ]
  },
  {
   "cell_type": "markdown",
   "metadata": {},
   "source": [
    "# Module 3\n",
    "Scope: Algorithmic Thinking, Programming"
   ]
  },
  {
   "cell_type": "markdown",
   "metadata": {},
   "source": [
    "## Imports - Always Execute First!\n",
    "Import any modules and turn on any magic here:"
   ]
  },
  {
   "cell_type": "code",
   "execution_count": 23,
   "metadata": {},
   "outputs": [
    {
     "name": "stdout",
     "output_type": "stream",
     "text": [
      "The pycodestyle_magic extension is already loaded. To reload it, use:\n",
      "  %reload_ext pycodestyle_magic\n"
     ]
    }
   ],
   "source": [
    "from IPython import get_ipython\n",
    "import matplotlib.pyplot as plt\n",
    "import random\n",
    "ipy = get_ipython()\n",
    "if ipy is not None:\n",
    "    ipy.run_line_magic(\"load_ext\", \"pycodestyle_magic\")\n",
    "    ipy.run_line_magic(\"pycodestyle_on\", \"\")"
   ]
  },
  {
   "cell_type": "markdown",
   "metadata": {},
   "source": [
    "## Burger Mania"
   ]
  },
  {
   "cell_type": "code",
   "execution_count": null,
   "metadata": {},
   "outputs": [],
   "source": [
    "\"\"\"\n",
    "Imagine that you are a restaurant's cashier and are trying to keep records for analysing profits.\n",
    "\n",
    "Your restaurant sells 7 different items:\n",
    "    1. Burgers - $4.25\n",
    "    2. Nuggets - $2.50\n",
    "    3. French Fries - $2.00\n",
    "    4. Small Drink - $1.25\n",
    "    5. Medium Drink - $1.50\n",
    "    6. Large Drink - $1.75\n",
    "    7. Salad - $3.75\n",
    "[4.25, 2.50, 2.00, 1.25, 1.50, 1.75, 3.75]\n",
    "Create a program to randomly generate the orders of each customer as a string of numbers\n",
    "(corresponding to the item) and calculate the cost of the order. For example, if the generated\n",
    "string is 5712335, the program should understand that the customer has ordered 1 burger, 1 \n",
    "portion of nuggets, 2 portions of fries, 2 medium drinks and 1 salad. It should then compute the\n",
    "cost ($17.50). The final cost is calculated after considering discounts for combo offers and\n",
    "adding 18% GST.\n",
    "\n",
    "The combo offers are:\n",
    "A) 1 Burger + 1 Portion of Fries + 1 Drink -> 20% discount\n",
    "B) 1 Burger + 1 Portion of Nuggets + 1 Salad + 1 Drink -> 35% discount\n",
    "\n",
    "The final cost of the 5712335 order is $13.4225. The profit gained each day has to be recorded for\n",
    "30 days and plotted for analysis.\n",
    "\n",
    "Note:\n",
    "    - There will be at least 20 customers and not more than 50 customers per day. Each customer\n",
    "      orders at least 3 items and not more than 7 items.\n",
    "    - If there is a possibility of availing multiple combo offers in an order, the program\n",
    "      should select the offer with maximum discount.\n",
    "\"\"\""
   ]
  },
  {
   "cell_type": "code",
   "execution_count": 7,
   "metadata": {},
   "outputs": [],
   "source": [
    "def generate_order():\n",
    "    \"\"\"\n",
    "        Function 1: generate_order()\n",
    "        Return: A randomly generated order string\n",
    "    \"\"\"\n",
    "    order = \"\"\n",
    "    for i in range(random.randint(3, 7)):\n",
    "        order += str(random.randint(1, 7))\n",
    "    return order"
   ]
  },
  {
   "cell_type": "code",
   "execution_count": 41,
   "metadata": {},
   "outputs": [
    {
     "name": "stderr",
     "output_type": "stream",
     "text": [
      "12:80: E501 line too long (117 > 79 characters)\n",
      "14:80: E501 line too long (100 > 79 characters)\n",
      "16:1: W293 blank line contains whitespace\n",
      "17:9: E225 missing whitespace around operator\n",
      "12:80: E501 line too long (117 > 79 characters)\n",
      "14:80: E501 line too long (100 > 79 characters)\n",
      "16:1: W293 blank line contains whitespace\n",
      "17:9: E225 missing whitespace around operator\n"
     ]
    }
   ],
   "source": [
    "def compute_cost(order):\n",
    "    \"\"\"\n",
    "        Function 2: compute_cost(order)\n",
    "        Parameters: order (String)\n",
    "        Return: Final cost of order\n",
    "    \"\"\"\n",
    "    price = [4.25, 2.50, 2.00, 1.25, 1.50, 1.75, 3.75]\n",
    "    cost = 0\n",
    "    for i in order:\n",
    "        cost += price[int(i)-1]\n",
    "\n",
    "    if ('1' in order) and ('2' in order) and ('7' in order) and (('4' in order) or ('5' in order) or ('6' in order)):\n",
    "        cost *= 0.65\n",
    "    elif ('1' in order) and ('3' in order) and (('4' in order) or ('5' in order) or ('6' in order)):\n",
    "        cost *= 0.80\n",
    "    \n",
    "    cost*=1.18\n",
    "    return cost"
   ]
  },
  {
   "cell_type": "code",
   "execution_count": 24,
   "metadata": {},
   "outputs": [
    {
     "name": "stderr",
     "output_type": "stream",
     "text": [
      "4:80: E501 line too long (93 > 79 characters)\n",
      "8:12: E225 missing whitespace around operator\n",
      "11:26: E231 missing whitespace after ','\n",
      "4:80: E501 line too long (93 > 79 characters)\n",
      "8:12: E225 missing whitespace around operator\n",
      "11:26: E231 missing whitespace after ','\n"
     ]
    }
   ],
   "source": [
    "def simulate_restaurant():\n",
    "    \"\"\"\n",
    "        Function 3: simulate_restaurant()\n",
    "        Purpose: Simulate the restaurant's operation using the previously declared functions,\n",
    "                 based on the constraints mentioned in the question\n",
    "        Output: Plot of profit over 30 days\n",
    "    \"\"\"\n",
    "    month =[]\n",
    "    for d in range(30):\n",
    "        day_cost = 0\n",
    "        for c in range(20,50):\n",
    "            order = generate_order()\n",
    "            cost = compute_cost(order)\n",
    "            day_cost += cost\n",
    "        month.append(day_cost)\n",
    "    plt.plot(month)\n",
    "    return month"
   ]
  },
  {
   "cell_type": "code",
   "execution_count": 43,
   "metadata": {},
   "outputs": [
    {
     "data": {
      "text/plain": [
       "[351.8169999999999,\n",
       " 388.79525000000007,\n",
       " 369.64975,\n",
       " 350.106,\n",
       " 372.40799999999996,\n",
       " 391.05199999999996,\n",
       " 442.1607499999999,\n",
       " 441.6149999999999,\n",
       " 391.52400000000006,\n",
       " 415.10925000000003,\n",
       " 397.70425,\n",
       " 385.506,\n",
       " 321.19599999999997,\n",
       " 372.4079999999999,\n",
       " 392.08450000000005,\n",
       " 424.4164999999999,\n",
       " 379.29625000000004,\n",
       " 395.2262499999999,\n",
       " 408.457,\n",
       " 358.35124999999994,\n",
       " 358.11525,\n",
       " 440.7595,\n",
       " 393.79550000000006,\n",
       " 401.58349999999996,\n",
       " 366.81775000000005,\n",
       " 394.51824999999997,\n",
       " 359.82624999999996,\n",
       " 432.82399999999996,\n",
       " 405.19724999999994,\n",
       " 345.17949999999996]"
      ]
     },
     "execution_count": 43,
     "metadata": {},
     "output_type": "execute_result"
    },
    {
     "data": {
      "image/png": "[encoded data removed]",
      "text/plain": [
       "<Figure size 432x288 with 1 Axes>"
      ]
     },
     "metadata": {
      "needs_background": "light"
     },
     "output_type": "display_data"
    },
    {
     "name": "stderr",
     "output_type": "stream",
     "text": [
      "1:23: W291 trailing whitespace\n",
      "1:23: W291 trailing whitespace\n"
     ]
    }
   ],
   "source": [
    "# For testing purposes \n",
    "\n",
    "# order = generate_order()\n",
    "# print(order)\n",
    "# compute_cost(order)\n",
    "simulate_restaurant()"
   ]
  },
  {
   "cell_type": "markdown",
   "metadata": {},
   "source": [
    "You're done with the Basics of Python! Give yourself a pat on the back.\n",
    "\n",
    "Now, choose an area you want to work on - Machine Learning, Internet of Things or Microgrids - and get started with the assignments. You could also choose to do assignments from multiple areas, it's entirely up to you. Hope you have fun!"
   ]
  }
 ],
 "metadata": {
  "kernelspec": {
   "display_name": "Python 3",
   "language": "python",
   "name": "python3"
  },
  "language_info": {
   "codemirror_mode": {
    "name": "ipython",
    "version": 3
   },
   "file_extension": ".py",
   "mimetype": "text/x-python",
   "name": "python",
   "nbconvert_exporter": "python",
   "pygments_lexer": "ipython3",
   "version": "3.8.3"
  }
 },
 "nbformat": 4,
 "nbformat_minor": 2
}
