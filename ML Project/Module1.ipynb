{
 "cells": [
  {
   "cell_type": "code",
   "execution_count": null,
   "metadata": {},
   "outputs": [],
   "source": [
    "import pandas as pd\n",
    "import json"
   ]
  },
  {
   "cell_type": "markdown",
   "metadata": {},
   "source": [
    "# Importing and filtering Data"
   ]
  },
  {
   "cell_type": "code",
   "execution_count": null,
   "metadata": {},
   "outputs": [],
   "source": [
    "cols =['FlightDate','Quarter','Year','Month','DayofMonth','DepTime','DepDel15','CRSDepTime','DepDelayMinutes','OriginAirportID','Origin','Dest','DestAirportID','ArrTime','CRSArrTime','ArrDel15','ArrDelayMinutes']\n",
    "airport_codes=['ATL','CLT','DEN','DFW','EWR','IAH','JFK','LAS','LAX','MCO','MIA','ORD','PHX','SEA','SFO']\n",
    "\n",
    "# 2016 flight data processing\n",
    "# df = pd.read_csv('flight data/2016/On_Time_On_Time_Performance_2016_1/On_Time_On_Time_Performance_2016_1.csv',usecols=cols)\n",
    "# df_all= df.loc[df['Origin'].isin(airport_codes) & df['Dest'].isin(airport_codes)]"
   ]
  },
  {
   "cell_type": "code",
   "execution_count": null,
   "metadata": {},
   "outputs": [],
   "source": [
    "for i in range(2,13):\n",
    "    df = pd.read_csv('flight data/2016/On_Time_On_Time_Performance_2016_'+str(i)+'/On_Time_On_Time_Performance_2016_'+str(i)+'.csv',usecols=cols)\n",
    "    df_temp = df.loc[df['Origin'].isin(airport_codes) & df['Dest'].isin(airport_codes)]\n",
    "    df_all = pd.concat([df_all,df_temp])\n"
   ]
  },
  {
   "cell_type": "code",
   "execution_count": null,
   "metadata": {},
   "outputs": [],
   "source": [
    "df_all.to_csv('data/flightData2016',index=False)"
   ]
  },
  {
   "cell_type": "code",
   "execution_count": null,
   "metadata": {},
   "outputs": [],
   "source": [
    "# 2017 flight data processing\n",
    "df = pd.read_csv('flight data/2017/On_Time_On_Time_Performance_2017_1/On_Time_On_Time_Performance_2017_1.csv',usecols=cols)\n",
    "df_all= df.loc[df['Origin'].isin(airport_codes) & df['Dest'].isin(airport_codes)]"
   ]
  },
  {
   "cell_type": "code",
   "execution_count": null,
   "metadata": {},
   "outputs": [],
   "source": [
    "for i in range(2,13):\n",
    "    df = pd.read_csv('flight data/2017/On_Time_On_Time_Performance_2017_'+str(i)+'/On_Time_On_Time_Performance_2017_'+str(i)+'.csv',usecols=cols)\n",
    "    df_temp = df.loc[df['Origin'].isin(airport_codes) & df['Dest'].isin(airport_codes)]\n",
    "    df_all = pd.concat([df_all,df_temp])\n"
   ]
  },
  {
   "cell_type": "code",
   "execution_count": null,
   "metadata": {},
   "outputs": [],
   "source": [
    "df_all.to_csv('data/flightData2017',index=False)"
   ]
  },
  {
   "cell_type": "markdown",
   "metadata": {},
   "source": [
    "# Data Preprocessing dropping NaN rows"
   ]
  },
  {
   "cell_type": "code",
   "execution_count": null,
   "metadata": {},
   "outputs": [],
   "source": [
    "# df = pd.read_csv('data/flightData2017')\n",
    "df = df_all.dropna()\n",
    "df = df.reset_index(drop=True)\n"
   ]
  },
  {
   "cell_type": "code",
   "execution_count": null,
   "metadata": {},
   "outputs": [],
   "source": [
    "df.to_csv('data/flightData2017',index=False)"
   ]
  },
  {
   "cell_type": "markdown",
   "metadata": {},
   "source": [
    "# Weather data preprocessing"
   ]
  },
  {
   "cell_type": "code",
   "execution_count": null,
   "metadata": {},
   "outputs": [],
   "source": [
    "# reference data\n",
    "sample = {\"data\": \n",
    "                {\"weather\": [{\"mintempC\": \"5\", \"maxtempF\": \"51\", \"sunHour\": \"7.5\", \"mintempF\": \"42\", \"maxtempC\": \"11\",\n",
    "                    \"hourly\": [\n",
    "                        {\"windspeedKmph\": \"11\", \"FeelsLikeF\": \"46\", \"winddir16Point\": \"NW\", \"FeelsLikeC\": \"8\", \n",
    "                            \"DewPointC\": \"8\", \"windspeedMiles\": \"7\", \"DewPointF\": \"47\", \"HeatIndexF\": \"49\", \"cloudcover\": \"100\", \n",
    "                            \"HeatIndexC\": \"10\", \"precipMM\": \"0.1\", \n",
    "                            \"weatherIconUrl\": [{\"value\": \"http://cdn.worldweatheronline.net/images/wsymbols01_png_64/wsymbol_0025_light_rain_showers_night.png\"}], \n",
    "                            \"WindGustMiles\": \"11\", \"pressure\": \"1023\", \"WindGustKmph\": \"17\", \"weatherDesc\": [{\"value\": \"Patchy rain possible\"}],\n",
    "                            \"visibility\": \"10\", \"weatherCode\": \"176\", \"tempC\": \"10\", \"tempF\": \"49\", \"WindChillF\": \"46\", \"WindChillC\": \"8\", \n",
    "                            \"winddirDegree\": \"318\", \"humidity\": \"91\", \"time\": \"0\"},\n",
    "                        {\"windspeedKmph\": \"13\", \"FeelsLikeF\": \"42\", \"winddir16Point\": \"NW\", \"FeelsLikeC\": \"6\",\n",
    "                            \"DewPointC\": \"7\", \"windspeedMiles\": \"8\", \"DewPointF\": \"44\", \"HeatIndexF\": \"46\", \"cloudcover\": \"100\",\n",
    "                            \"HeatIndexC\": \"8\", \"precipMM\": \"0.0\",\n",
    "                            \"weatherIconUrl\": [{\"value\": \"http://cdn.worldweatheronline.net/images/wsymbols01_png_64/wsymbol_0025_light_rain_showers_night.png\"}], \n",
    "                            \"WindGustMiles\": \"13\", \"pressure\": \"1023\", \"WindGustKmph\": \"22\", \"weatherDesc\": [{\"value\": \"Patchy rain possible\"}], \n",
    "                            \"visibility\": \"10\", \"weatherCode\": \"176\", \"tempC\": \"8\", \"tempF\": \"46\", \"WindChillF\": \"42\", \"WindChillC\": \"6\", \n",
    "                            \"winddirDegree\": \"317\", \"humidity\": \"92\", \"time\": \"100\"},\n",
    "                        {\"windspeedKmph\": \"14\", \"FeelsLikeF\": \"38\", \"winddir16Point\": \"NW\", \"FeelsLikeC\": \"3\", \n",
    "                            \"DewPointC\": \"5\", \"windspeedMiles\": \"9\", \"DewPointF\": \"41\", \"HeatIndexF\": \"43\", \"cloudcover\": \"100\", \n",
    "                            \"HeatIndexC\": \"6\", \"precipMM\": \"0.0\", \n",
    "                            \"weatherIconUrl\": [{\"value\": \"http://cdn.worldweatheronline.net/images/wsymbols01_png_64/wsymbol_0004_black_low_cloud.png\"}], \n",
    "                            \"WindGustMiles\": \"16\", \"pressure\": \"1023\", \"WindGustKmph\": \"26\", \"weatherDesc\": [{\"value\": \"Overcast\"}], \n",
    "                            \"visibility\": \"10\", \"weatherCode\": \"122\", \"tempC\": \"6\", \"tempF\": \"43\", \"WindChillF\": \"38\", \"WindChillC\": \"3\", \n",
    "                            \"winddirDegree\": \"315\", \"humidity\": \"92\", \"time\": \"200\"}],\n",
    "                        \"totalSnow_cm\": \"0.0\", \"date\": \"2016-01-01\", \n",
    "                        \"astronomy\": [{\"moon_phase\": \"Waning Gibbous\", \"moonrise\": \"12:52 AM\", \"moonset\": \"01:11 PM\", \"sunset\": \"06:40 PM\", \"moon_illumination\": \"76\", \"sunrise\": \"08:42 AM\"}], \n",
    "                        \"uvIndex\": \"0\"},]\n",
    "                }\n",
    "            }"
   ]
  },
  {
   "cell_type": "code",
   "execution_count": null,
   "metadata": {},
   "outputs": [],
   "source": [
    "f = open('weather data/ATL/2016-1.json','r')\n",
    "data = json.load(f)"
   ]
  },
  {
   "cell_type": "code",
   "execution_count": null,
   "metadata": {},
   "outputs": [],
   "source": [
    "df_all = pd.json_normalize(\n",
    "    sample['data']['weather'][0],\n",
    "    record_path=['hourly'],\n",
    "    meta=['date'],\n",
    "    errors='ignore'\n",
    ")\n",
    "df_all['airport']='XYZ'\n",
    "df_all = df_all[['windspeedKmph','winddirDegree','weatherCode','precipMM','visibility','pressure','cloudcover',\n",
    "'DewPointF','WindGustKmph','tempF','WindChillF','humidity','date','time','airport']]"
   ]
  },
  {
   "cell_type": "code",
   "execution_count": null,
   "metadata": {},
   "outputs": [],
   "source": [
    "airport_codes=['ATL','CLT','DEN','DFW','EWR','IAH','JFK','LAS','LAX','MCO','MIA','ORD','PHX','SEA','SFO']\n",
    "weather_fields = ['windspeedKmph','winddirDegree','weatherCode','precipMM','visibility','pressure','cloudcover',\n",
    "'DewPointF','WindGustKmph','tempF','WindChillF','humidity','date','time','airport']\n",
    "\n",
    "for air_code in airport_codes:\n",
    "    for i in range(1,13):\n",
    "        f = open('weather data/'+air_code+'/2017-'+str(i)+'.json','r')\n",
    "        # f = open('weather data/ATL/2016-1.json','r')\n",
    "        data = json.load(f)\n",
    "        for day in data['data']['weather']:\n",
    "            df = pd.json_normalize(\n",
    "                day,\n",
    "                record_path=['hourly'],\n",
    "                meta=['date'],\n",
    "                errors='ignore'\n",
    "            )\n",
    "            df['airport']=air_code\n",
    "            df_all = pd.concat([df_all,df[weather_fields]])          "
   ]
  },
  {
   "cell_type": "code",
   "execution_count": null,
   "metadata": {},
   "outputs": [],
   "source": [
    "df_all.to_csv('data/weatherData2017',index=False)"
   ]
  },
  {
   "cell_type": "code",
   "execution_count": null,
   "metadata": {},
   "outputs": [],
   "source": [
    "# rounding DepTime \n",
    "df = pd.read_feather('data/flightData2016')"
   ]
  },
  {
   "cell_type": "code",
   "execution_count": null,
   "metadata": {},
   "outputs": [],
   "source": [
    "def label_row(time):\n",
    "    ti = int(time)\n",
    "    hr = ti//100\n",
    "    min = ti%100\n",
    "    if(min> 30):\n",
    "        if(hr == 23): return 2300\n",
    "        return (hr+1)*100\n",
    "    else: \n",
    "        return hr*100\n",
    "\n",
    "df['roundTime'] = df.apply (lambda row: label_row(row['DepTime']), axis=1)\n",
    "# df['DepTime'] = df['DepTime'].astype(int)\n",
    "# df['ArrTime'] = df['ArrTime'].astype(int)"
   ]
  },
  {
   "cell_type": "code",
   "execution_count": null,
   "metadata": {},
   "outputs": [],
   "source": [
    "df.loc[(df['roundTime']==23),'roundTime']=2300"
   ]
  },
  {
   "cell_type": "code",
   "execution_count": null,
   "metadata": {},
   "outputs": [],
   "source": [
    "df.to_feather('data/flightData2017')"
   ]
  },
  {
   "cell_type": "markdown",
   "metadata": {},
   "source": [
    "# Merging 2016 Flight and Weather Data"
   ]
  },
  {
   "cell_type": "code",
   "execution_count": null,
   "metadata": {},
   "outputs": [],
   "source": [
    "flight = pd.read_feather('data/flightData2017')\n",
    "weather = pd.read_csv('data/weatherData2017')"
   ]
  },
  {
   "cell_type": "code",
   "execution_count": null,
   "metadata": {},
   "outputs": [],
   "source": [
    "result = pd.merge(flight,weather,how='inner',left_on=['FlightDate','roundTime','Origin'],right_on=['date','time','airport'])"
   ]
  },
  {
   "cell_type": "code",
   "execution_count": null,
   "metadata": {},
   "outputs": [],
   "source": [
    "result.to_feather('data/merge2017')"
   ]
  },
  {
   "cell_type": "code",
   "execution_count": null,
   "metadata": {},
   "outputs": [],
   "source": [
    "merge_2016 = pd.read_feather('data/merge2016')"
   ]
  },
  {
   "cell_type": "code",
   "execution_count": null,
   "metadata": {},
   "outputs": [],
   "source": [
    "merge_2016"
   ]
  },
  {
   "cell_type": "code",
   "execution_count": null,
   "metadata": {},
   "outputs": [],
   "source": [
    "result # in this case its 2017 data"
   ]
  },
  {
   "cell_type": "code",
   "execution_count": null,
   "metadata": {},
   "outputs": [],
   "source": []
  }
 ],
 "metadata": {
  "interpreter": {
   "hash": "45751fe84994b2942bf1c9e5f4e350133d003b69fdc93d6621c097f25393677e"
  },
  "kernelspec": {
   "display_name": "Python 3.8.3 64-bit ('base': conda)",
   "name": "python3"
  },
  "language_info": {
   "codemirror_mode": {
    "name": "ipython",
    "version": 3
   },
   "file_extension": ".py",
   "mimetype": "text/x-python",
   "name": "python",
   "nbconvert_exporter": "python",
   "pygments_lexer": "ipython3",
   "version": "3.8.3"
  }
 },
 "nbformat": 4,
 "nbformat_minor": 4
}
