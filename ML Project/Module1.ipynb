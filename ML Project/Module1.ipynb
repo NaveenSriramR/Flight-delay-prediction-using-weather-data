{
 "cells": [
  {
   "cell_type": "code",
   "execution_count": 6,
   "metadata": {},
   "outputs": [],
   "source": [
    "import pandas as pd"
   ]
  },
  {
   "cell_type": "code",
   "execution_count": 16,
   "metadata": {},
   "outputs": [],
   "source": [
    "cols =['FlightDate','Quarter','Year','Month','DayofMonth','DepTime','DepDel15','CRSDepTime','DepDelayMinutes','OriginAirportID','Origin','Dest','DestAirportID','ArrTime','CRSArrTime','ArrDel15','ArrDelayMinutes']\n",
    "airport_codes=['ATL','CLT','DEN','DFW','EWR','IAH','JFK','LAS','LAX','MCO','MIA','ORD','PHX','SEA','SFO']\n",
    "\n",
    "# 2016 flight data processing\n",
    "df = pd.read_csv('flight data/2016/On_Time_On_Time_Performance_2016_1/On_Time_On_Time_Performance_2016_1.csv',usecols=cols)\n",
    "df_all= df.loc[df['Origin'].isin(airport_codes) & df['Dest'].isin(airport_codes)]"
   ]
  },
  {
   "cell_type": "code",
   "execution_count": 18,
   "metadata": {},
   "outputs": [],
   "source": [
    "for i in range(2,13):\n",
    "    df = pd.read_csv('flight data/2016/On_Time_On_Time_Performance_2016_'+str(i)+'/On_Time_On_Time_Performance_2016_'+str(i)+'.csv',usecols=cols)\n",
    "    df_temp = df.loc[df['Origin'].isin(airport_codes) & df['Dest'].isin(airport_codes)]\n",
    "    df_all = pd.concat([df_all,df_temp])\n"
   ]
  },
  {
   "cell_type": "code",
   "execution_count": 19,
   "metadata": {},
   "outputs": [],
   "source": [
    "df_all.to_csv('data/flightData2016',index=False)"
   ]
  },
  {
   "cell_type": "code",
   "execution_count": 24,
   "metadata": {},
   "outputs": [],
   "source": [
    "# 2017 flight data processing\n",
    "df = pd.read_csv('flight data/2017/On_Time_On_Time_Performance_2017_1/On_Time_On_Time_Performance_2017_1.csv',usecols=cols)\n",
    "df_all= df.loc[df['Origin'].isin(airport_codes) & df['Dest'].isin(airport_codes)]"
   ]
  },
  {
   "cell_type": "code",
   "execution_count": 26,
   "metadata": {},
   "outputs": [],
   "source": [
    "for i in range(2,13):\n",
    "    df = pd.read_csv('flight data/2017/On_Time_On_Time_Performance_2017_'+str(i)+'/On_Time_On_Time_Performance_2017_'+str(i)+'.csv',usecols=cols)\n",
    "    df_temp = df.loc[df['Origin'].isin(airport_codes) & df['Dest'].isin(airport_codes)]\n",
    "    df_all = pd.concat([df_all,df_temp])\n"
   ]
  },
  {
   "cell_type": "code",
   "execution_count": 27,
   "metadata": {},
   "outputs": [],
   "source": [
    "df_all.to_csv('data/flightData2017',index=False)"
   ]
  },
  {
   "cell_type": "code",
   "execution_count": null,
   "metadata": {},
   "outputs": [],
   "source": []
  }
 ],
 "metadata": {
  "interpreter": {
   "hash": "45751fe84994b2942bf1c9e5f4e350133d003b69fdc93d6621c097f25393677e"
  },
  "kernelspec": {
   "display_name": "Python 3.8.3 64-bit ('base': conda)",
   "name": "python3"
  },
  "language_info": {
   "codemirror_mode": {
    "name": "ipython",
    "version": 3
   },
   "file_extension": ".py",
   "mimetype": "text/x-python",
   "name": "python",
   "nbconvert_exporter": "python",
   "pygments_lexer": "ipython3",
   "version": "3.8.3"
  }
 },
 "nbformat": 4,
 "nbformat_minor": 4
}
