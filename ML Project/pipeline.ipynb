{
 "cells": [
  {
   "cell_type": "markdown",
   "metadata": {},
   "source": [
    "## PIPELINE\n",
    "### Done using Gradient Boosting"
   ]
  },
  {
   "cell_type": "code",
   "execution_count": 1,
   "metadata": {},
   "outputs": [],
   "source": [
    "import pandas as pd\n",
    "import numpy as np\n",
    "import math\n",
    "from sklearn.model_selection import train_test_split\n",
    "from sklearn.preprocessing import StandardScaler,LabelEncoder\n",
    "from sklearn.metrics import r2_score,mean_squared_error,mean_absolute_error"
   ]
  },
  {
   "cell_type": "code",
   "execution_count": 2,
   "metadata": {},
   "outputs": [],
   "source": [
    "columns = ['Month', 'DayofMonth', 'Origin', 'Dest', 'CRSDepTime',\n",
    "       'DepDelayMinutes', 'CRSArrTime', 'windspeedKmph', 'winddirDegree',\n",
    "       'precipMM', 'visibility', 'pressure', 'cloudcover', 'DewPointF',\n",
    "       'WindGustKmph', 'tempF', 'WindChillF', 'humidity']\n",
    "\n",
    "# np.save('data/xtrain.npy',X_train,allow_pickle=True)\n",
    "# np.save('data/xtest.npy',X_test,allow_pickle=True)\n",
    "# np.save('data/ytrain_Reg.npy',Y_train,allow_pickle=True)\n",
    "# np.save('data/ytest_reg.npy',y_test,allow_pickle=True)\n",
    "\n",
    "X_train = np.load('data/xtrain.npy',allow_pickle=True)\n",
    "X_test = np.load('data/xtest.npy',allow_pickle=True)\n",
    "Y_train_reg = np.load('data/ytrain_Reg.npy',allow_pickle=True)\n",
    "y_test_reg = np.load('data/ytest_Reg.npy',allow_pickle=True)\n",
    "Y_train_clasi = np.load('data/ytrain_Clasi.npy',allow_pickle=True)\n",
    "y_test_clasi = np.load('data/ytest_Clasi.npy',allow_pickle=True)\n",
    "\n",
    "X_train = pd.DataFrame(X_train,columns=columns)\n",
    "X_test = pd.DataFrame(X_test,columns=columns)\n",
    "# Y_train_reg = pd.DataFrame(Y_train_reg,columns=['ArrDelayMinutes'])\n",
    "# y_test_reg = pd.DataFrame(y_test_reg,columns=['ArrDelayMinutes'])\n",
    "# Y_train_clasi = pd.DataFrame(Y_train_clasi,columns=['ArrDel15'])\n",
    "# y_test_clasi = pd.DataFrame(y_test_clasi,columns=['ArrDel15'])"
   ]
  },
  {
   "cell_type": "code",
   "execution_count": 3,
   "metadata": {},
   "outputs": [],
   "source": [
    "# feature scaling\n",
    "sc_x = StandardScaler()\n",
    "X_train = sc_x.fit_transform(X_train)\n",
    "X_test = sc_x.transform(X_test)"
   ]
  },
  {
   "cell_type": "code",
   "execution_count": 4,
   "metadata": {},
   "outputs": [],
   "source": [
    "from sklearn.ensemble import GradientBoostingClassifier\n",
    "GB_clf = GradientBoostingClassifier(n_estimators=100, learning_rate=1.0, random_state=0)\n",
    "GB_clf.fit(X_train, Y_train_clasi)\n",
    "y_pred_Clasi = GB_clf.predict(X_test)"
   ]
  },
  {
   "cell_type": "code",
   "execution_count": 5,
   "metadata": {},
   "outputs": [
    {
     "data": {
      "text/plain": [
       "GradientBoostingRegressor(random_state=0)"
      ]
     },
     "execution_count": 5,
     "metadata": {},
     "output_type": "execute_result"
    }
   ],
   "source": [
    "# Gradient boosting \n",
    "from sklearn.ensemble import GradientBoostingRegressor\n",
    "reg = GradientBoostingRegressor(random_state=0)\n",
    "reg.fit(X_train, Y_train_reg)"
   ]
  },
  {
   "cell_type": "code",
   "execution_count": 18,
   "metadata": {},
   "outputs": [],
   "source": [
    "y_pred_reg = []\n",
    "for i in range(len(y_pred_Clasi)):\n",
    "    if y_pred_Clasi[i] == 0:\n",
    "        y_pred_reg.append(0)\n",
    "    else :\n",
    "        y_pred_reg.append(reg.predict( np.array([X_test[i]])))"
   ]
  },
  {
   "cell_type": "code",
   "execution_count": 19,
   "metadata": {},
   "outputs": [],
   "source": [
    "y_pred = np.array(y_pred_reg)\n",
    "y_test = y_test_reg"
   ]
  },
  {
   "cell_type": "code",
   "execution_count": 20,
   "metadata": {},
   "outputs": [
    {
     "name": "stdout",
     "output_type": "stream",
     "text": [
      "Gradient Boosting results\n",
      "R2:0.925\n",
      "RMSE:11.230\n",
      "MAE:4.807\n"
     ]
    }
   ],
   "source": [
    "# Gradient Boosting results\n",
    "print('Gradient Boosting results')\n",
    "print('R2:%.3f' % r2_score(y_test,y_pred))\n",
    "print('RMSE:%.3f' % math.sqrt(mean_squared_error(y_test,y_pred)))\n",
    "print('MAE:%.3f' % mean_absolute_error(y_test,y_pred))"
   ]
  },
  {
   "cell_type": "code",
   "execution_count": null,
   "metadata": {},
   "outputs": [],
   "source": []
  }
 ],
 "metadata": {
  "interpreter": {
   "hash": "45751fe84994b2942bf1c9e5f4e350133d003b69fdc93d6621c097f25393677e"
  },
  "kernelspec": {
   "display_name": "Python 3.8.3 64-bit ('base': conda)",
   "language": "python",
   "name": "python3"
  },
  "language_info": {
   "codemirror_mode": {
    "name": "ipython",
    "version": 3
   },
   "file_extension": ".py",
   "mimetype": "text/x-python",
   "name": "python",
   "nbconvert_exporter": "python",
   "pygments_lexer": "ipython3",
   "version": "3.8.3"
  },
  "orig_nbformat": 4
 },
 "nbformat": 4,
 "nbformat_minor": 2
}
