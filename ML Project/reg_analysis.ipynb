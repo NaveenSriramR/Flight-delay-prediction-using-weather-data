{
 "cells": [
  {
   "cell_type": "code",
   "execution_count": 1,
   "metadata": {},
   "outputs": [],
   "source": [
    "import pandas as pd\n",
    "import numpy as np\n",
    "import math\n",
    "from sklearn.model_selection import train_test_split\n",
    "from sklearn.preprocessing import StandardScaler,LabelEncoder\n",
    "from sklearn.metrics import r2_score,mean_squared_error,mean_absolute_error"
   ]
  },
  {
   "cell_type": "code",
   "execution_count": 2,
   "metadata": {},
   "outputs": [],
   "source": [
    "# Preprocessing\n",
    "dataset = pd.read_feather('data/readyDataReg')"
   ]
  },
  {
   "cell_type": "code",
   "execution_count": 3,
   "metadata": {},
   "outputs": [],
   "source": [
    "label_encode = LabelEncoder()\n",
    "dataset['Origin'] = label_encode.fit_transform(dataset['Origin'])\n",
    "dataset['Dest'] = label_encode.transform(dataset['Dest'])\n"
   ]
  },
  {
   "cell_type": "code",
   "execution_count": 30,
   "metadata": {},
   "outputs": [],
   "source": [
    "miniDataset = dataset[(dataset['ArrDelayMinutes']>=1000)] # & (dataset['ArrDelayMinutes']<1000)]"
   ]
  },
  {
   "cell_type": "code",
   "execution_count": 31,
   "metadata": {},
   "outputs": [],
   "source": [
    "Y= miniDataset.iloc[:,7].values\n",
    "miniDataset = miniDataset.drop(columns=['ArrDelayMinutes'])\n",
    "X = miniDataset.iloc[:,:].values"
   ]
  },
  {
   "cell_type": "code",
   "execution_count": 32,
   "metadata": {},
   "outputs": [],
   "source": [
    "# train test split\n",
    "X_train,X_test,Y_train,y_test = train_test_split(X,Y,test_size=0.25,random_state=0)\n",
    "del X,Y"
   ]
  },
  {
   "cell_type": "code",
   "execution_count": 12,
   "metadata": {},
   "outputs": [],
   "source": [
    "columns = ['Month', 'DayofMonth', 'Origin', 'Dest', 'CRSDepTime',\n",
    "       'DepDelayMinutes', 'CRSArrTime', 'windspeedKmph', 'winddirDegree',\n",
    "       'precipMM', 'visibility', 'pressure', 'cloudcover', 'DewPointF',\n",
    "       'WindGustKmph', 'tempF', 'WindChillF', 'humidity']\n",
    "\n",
    "# np.save('data/xtrain_Reg.npy',X_train,allow_pickle=True)\n",
    "# np.save('data/xtest_Reg.npy',X_test,allow_pickle=True)\n",
    "# np.save('data/ytrain_Reg.npy',Y_train,allow_pickle=True)\n",
    "# np.save('data/ytest_Reg.npy',y_test,allow_pickle=True)\n",
    "\n",
    "# X_train = np.load('data/xtrain_Reg.npy',allow_pickle=True)\n",
    "# X_test = np.load('data/xtest_Reg.npy',allow_pickle=True)\n",
    "# Y_train = np.load('data/ytrain_Reg.npy',allow_pickle=True)\n",
    "# y_test = np.load('data/ytest_Reg.npy',allow_pickle=True)\n",
    "\n",
    "X_train = pd.DataFrame(X_train,columns=columns)\n",
    "X_test = pd.DataFrame(X_test,columns=columns)\n",
    "# Y_train = pd.DataFrame(Y_train,columns=['ArrDelayMinutes'])\n",
    "# y_test = pd.DataFrame(y_test,columns=['ArrDelayMinutes'])"
   ]
  },
  {
   "cell_type": "code",
   "execution_count": 13,
   "metadata": {},
   "outputs": [],
   "source": [
    "#feature scaling\n",
    "sc_x = StandardScaler()\n",
    "X_train = sc_x.fit_transform(X_train)\n",
    "X_test = sc_x.transform(X_test)"
   ]
  },
  {
   "cell_type": "code",
   "execution_count": 33,
   "metadata": {},
   "outputs": [],
   "source": [
    "# Gradient boosting \n",
    "from sklearn.ensemble import GradientBoostingRegressor\n",
    "reg = GradientBoostingRegressor(random_state=0)\n",
    "reg.fit(X_train, Y_train)\n",
    "y_pred = reg.predict(X_test)"
   ]
  },
  {
   "cell_type": "code",
   "execution_count": 34,
   "metadata": {},
   "outputs": [
    {
     "name": "stdout",
     "output_type": "stream",
     "text": [
      "Gradient Boosting results (15-100 mins)\n",
      "R2:0.970\n",
      "RMSE:36.530\n",
      "MAE:22.346\n"
     ]
    }
   ],
   "source": [
    "# Gradient Boosting results\n",
    "print('Gradient Boosting results (15-100 mins)')\n",
    "print('R2:%.3f' % r2_score(y_test,y_pred))\n",
    "print('RMSE:%.3f' % math.sqrt(mean_squared_error(y_test,y_pred)))\n",
    "print('MAE:%.3f' % mean_absolute_error(y_test,y_pred))"
   ]
  },
  {
   "cell_type": "code",
   "execution_count": null,
   "metadata": {},
   "outputs": [],
   "source": []
  }
 ],
 "metadata": {
  "interpreter": {
   "hash": "45751fe84994b2942bf1c9e5f4e350133d003b69fdc93d6621c097f25393677e"
  },
  "kernelspec": {
   "display_name": "Python 3.8.3 64-bit ('base': conda)",
   "language": "python",
   "name": "python3"
  },
  "language_info": {
   "codemirror_mode": {
    "name": "ipython",
    "version": 3
   },
   "file_extension": ".py",
   "mimetype": "text/x-python",
   "name": "python",
   "nbconvert_exporter": "python",
   "pygments_lexer": "ipython3",
   "version": "3.8.3"
  },
  "orig_nbformat": 4
 },
 "nbformat": 4,
 "nbformat_minor": 2
}
