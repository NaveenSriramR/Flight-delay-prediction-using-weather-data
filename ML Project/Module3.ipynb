{
 "cells": [
  {
   "cell_type": "markdown",
   "metadata": {},
   "source": [
    "# Module 3 Regression"
   ]
  },
  {
   "cell_type": "code",
   "execution_count": 1,
   "metadata": {},
   "outputs": [],
   "source": [
    "import pandas as pd\n",
    "import numpy as np\n",
    "import math\n",
    "from sklearn.model_selection import train_test_split\n",
    "from sklearn.preprocessing import StandardScaler,LabelEncoder\n",
    "from sklearn.metrics import r2_score,mean_squared_error,mean_absolute_error"
   ]
  },
  {
   "cell_type": "code",
   "execution_count": 2,
   "metadata": {},
   "outputs": [],
   "source": [
    "# dataset = pd.read_feather('data/mergeTotal')    \n",
    "# dataset = dataset.drop(columns=['date','time','airport','roundTime','Quarter','Year','FlightDate','ArrTime','DepTime','DepDel15'])\n",
    "# dataset = dataset.drop(columns=['ArrDel15','weatherCode','OriginAirportID','DestAirportID'])\n",
    "# dataset.to_feather('data/readyDataReg')"
   ]
  },
  {
   "cell_type": "code",
   "execution_count": 3,
   "metadata": {},
   "outputs": [],
   "source": [
    "# Preprocessing\n",
    "dataset = pd.read_feather('data/readyDataReg')"
   ]
  },
  {
   "cell_type": "code",
   "execution_count": 4,
   "metadata": {},
   "outputs": [],
   "source": [
    "label_encode = LabelEncoder()\n",
    "dataset['Origin'] = label_encode.fit_transform(dataset['Origin'])\n",
    "dataset['Dest'] = label_encode.transform(dataset['Dest'])\n"
   ]
  },
  {
   "cell_type": "code",
   "execution_count": 5,
   "metadata": {},
   "outputs": [],
   "source": [
    "Y= dataset.iloc[:,7].values\n",
    "dataset = dataset.drop(columns=['ArrDelayMinutes'])\n",
    "X = dataset.iloc[:,:].values"
   ]
  },
  {
   "cell_type": "code",
   "execution_count": 6,
   "metadata": {},
   "outputs": [],
   "source": [
    "# train test split\n",
    "X_train,X_test,Y_train,y_test = train_test_split(X,Y,test_size=0.25,random_state=0)\n",
    "del dataset,X,Y"
   ]
  },
  {
   "cell_type": "code",
   "execution_count": 7,
   "metadata": {},
   "outputs": [],
   "source": [
    "#feature scaling\n",
    "sc_x = StandardScaler()\n",
    "X_train = sc_x.fit_transform(X_train)\n",
    "X_test = sc_x.transform(X_test)"
   ]
  },
  {
   "cell_type": "code",
   "execution_count": 8,
   "metadata": {},
   "outputs": [],
   "source": [
    "# Training with linear regression\n",
    "from sklearn.linear_model import LinearRegression\n",
    "reg = LinearRegression()\n",
    "reg.fit(X_train,Y_train)\n",
    "y_pred = reg.predict(X_test)"
   ]
  },
  {
   "cell_type": "code",
   "execution_count": 9,
   "metadata": {},
   "outputs": [
    {
     "name": "stdout",
     "output_type": "stream",
     "text": [
      "Linear reg results\n",
      "R2:0.930\n",
      "RMSE:10.842\n",
      "MAE:5.558\n"
     ]
    }
   ],
   "source": [
    "# Linear regression results\n",
    "print('Linear reg results')\n",
    "print('R2:%.3f' % r2_score(y_test,y_pred))\n",
    "print('RMSE:%.3f' % math.sqrt(mean_squared_error(y_test,y_pred)))\n",
    "print('MAE:%.3f' % mean_absolute_error(y_test,y_pred))"
   ]
  },
  {
   "cell_type": "code",
   "execution_count": 9,
   "metadata": {},
   "outputs": [],
   "source": [
    "# SVR \n",
    "# from sklearn.svm import SVR\n",
    "# from sklearn.pipeline import make_pipeline\n",
    "# regr = make_pipeline(StandardScaler(), SVR(C=1.0, epsilon=0.2))\n",
    "# regr.fit(X_train,Y_train)\n",
    "# y_pred = regr.predict(X_test)"
   ]
  },
  {
   "cell_type": "code",
   "execution_count": null,
   "metadata": {},
   "outputs": [],
   "source": [
    "# SVR results\n",
    "# print('SVR results')\n",
    "# print('R2:%.3f' % r2_score(y_test,y_pred))\n",
    "# print('RMSE:%.3f' % math.sqrt(mean_squared_error(y_test,y_pred)))\n",
    "# print('MAE:%.3f' % mean_absolute_error(y_test,y_pred))"
   ]
  },
  {
   "cell_type": "code",
   "execution_count": 10,
   "metadata": {},
   "outputs": [],
   "source": [
    "# ExtraTrees Regression\n",
    "from sklearn.ensemble import ExtraTreesRegressor\n",
    "reg = ExtraTreesRegressor(n_estimators=100, random_state=0)\n",
    "reg.fit(X_train, Y_train)\n",
    "y_pred = reg.predict(X_test)"
   ]
  },
  {
   "cell_type": "code",
   "execution_count": 11,
   "metadata": {},
   "outputs": [
    {
     "name": "stdout",
     "output_type": "stream",
     "text": [
      "ExtraTree results\n",
      "R2:0.935\n",
      "RMSE:10.415\n",
      "MAE:5.670\n"
     ]
    }
   ],
   "source": [
    "# ExtraTree results\n",
    "print('ExtraTree results')\n",
    "print('R2:%.3f' % r2_score(y_test,y_pred))\n",
    "print('RMSE:%.3f' % math.sqrt(mean_squared_error(y_test,y_pred)))\n",
    "print('MAE:%.3f' % mean_absolute_error(y_test,y_pred))"
   ]
  },
  {
   "cell_type": "code",
   "execution_count": 12,
   "metadata": {},
   "outputs": [],
   "source": [
    "# Gradient boosting \n",
    "from sklearn.ensemble import GradientBoostingRegressor\n",
    "reg = GradientBoostingRegressor(random_state=0)\n",
    "reg.fit(X_train, Y_train)\n",
    "y_pred = reg.predict(X_test)"
   ]
  },
  {
   "cell_type": "code",
   "execution_count": 13,
   "metadata": {},
   "outputs": [
    {
     "name": "stdout",
     "output_type": "stream",
     "text": [
      "Gradient Boosting results\n",
      "R2:0.935\n",
      "RMSE:10.475\n",
      "MAE:5.682\n"
     ]
    }
   ],
   "source": [
    "# Gradient Boosting results\n",
    "print('Gradient Boosting results')\n",
    "print('R2:%.3f' % r2_score(y_test,y_pred))\n",
    "print('RMSE:%.3f' % math.sqrt(mean_squared_error(y_test,y_pred)))\n",
    "print('MAE:%.3f' % mean_absolute_error(y_test,y_pred))"
   ]
  },
  {
   "cell_type": "code",
   "execution_count": null,
   "metadata": {},
   "outputs": [],
   "source": []
  }
 ],
 "metadata": {
  "interpreter": {
   "hash": "45751fe84994b2942bf1c9e5f4e350133d003b69fdc93d6621c097f25393677e"
  },
  "kernelspec": {
   "display_name": "Python 3.8.3 64-bit ('base': conda)",
   "language": "python",
   "name": "python3"
  },
  "language_info": {
   "codemirror_mode": {
    "name": "ipython",
    "version": 3
   },
   "file_extension": ".py",
   "mimetype": "text/x-python",
   "name": "python",
   "nbconvert_exporter": "python",
   "pygments_lexer": "ipython3",
   "version": "3.8.3"
  },
  "orig_nbformat": 4
 },
 "nbformat": 4,
 "nbformat_minor": 2
}
