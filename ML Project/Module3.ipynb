{
 "cells": [
  {
   "cell_type": "markdown",
   "metadata": {},
   "source": [
    "# Module 3 Regression"
   ]
  },
  {
   "cell_type": "code",
   "execution_count": 31,
   "metadata": {},
   "outputs": [],
   "source": [
    "import pandas as pd\n",
    "import numpy as np\n",
    "import math\n",
    "from sklearn.model_selection import train_test_split\n",
    "from sklearn.preprocessing import StandardScaler,LabelEncoder\n",
    "from sklearn.metrics import r2_score,mean_squared_error,mean_absolute_error"
   ]
  },
  {
   "cell_type": "code",
   "execution_count": 2,
   "metadata": {},
   "outputs": [],
   "source": [
    "# dataset = pd.read_feather('data/mergeTotal')    \n",
    "# dataset = dataset.drop(columns=['date','time','airport','roundTime','Quarter','Year','FlightDate','ArrTime','DepTime','DepDel15'])\n",
    "# dataset = dataset.drop(columns=['ArrDel15','weatherCode','OriginAirportID','DestAirportID'])\n",
    "# dataset.to_feather('data/readyDataReg')"
   ]
  },
  {
   "cell_type": "code",
   "execution_count": 32,
   "metadata": {},
   "outputs": [],
   "source": [
    "# Preprocessing\n",
    "dataset = pd.read_feather('data/readyDataReg')"
   ]
  },
  {
   "cell_type": "code",
   "execution_count": 33,
   "metadata": {},
   "outputs": [],
   "source": [
    "label_encode = LabelEncoder()\n",
    "dataset['Origin'] = label_encode.fit_transform(dataset['Origin'])\n",
    "dataset['Dest'] = label_encode.transform(dataset['Dest'])\n"
   ]
  },
  {
   "cell_type": "code",
   "execution_count": 34,
   "metadata": {},
   "outputs": [],
   "source": [
    "Y= dataset.iloc[:,7].values\n",
    "dataset = dataset.drop(columns=['ArrDelayMinutes'])\n",
    "X = dataset.iloc[:,:].values"
   ]
  },
  {
   "cell_type": "code",
   "execution_count": 35,
   "metadata": {},
   "outputs": [],
   "source": [
    "# train test split\n",
    "X_train,X_test,Y_train,y_test = train_test_split(X,Y,test_size=0.25,random_state=0)\n",
    "del dataset,X,Y"
   ]
  },
  {
   "cell_type": "code",
   "execution_count": 36,
   "metadata": {},
   "outputs": [],
   "source": [
    "np.save('data/xtest.npy',X_test,allow_pickle=True) # used for pipeline regression only\n",
    "np.save('data/ytest.npy',y_test,allow_pickle=True) # used for pipeline regression only"
   ]
  },
  {
   "cell_type": "code",
   "execution_count": 8,
   "metadata": {},
   "outputs": [
    {
     "data": {
      "text/plain": [
       "(array([      2,       3,       4, ..., 1381968, 1381976, 1381978],\n",
       "       dtype=int64),)"
      ]
     },
     "execution_count": 8,
     "metadata": {},
     "output_type": "execute_result"
    }
   ],
   "source": [
    "np.where(Y_train > 15 )"
   ]
  },
  {
   "cell_type": "code",
   "execution_count": 29,
   "metadata": {},
   "outputs": [],
   "source": [
    "X_train = X_train[np.where(Y_train > 15 )]\n",
    "Y_train = Y_train[np.where(Y_train > 15 )]\n",
    "X_test = X_test[np.where(y_test > 15 )]\n",
    "y_test = y_test[np.where(y_test > 15 )]\n"
   ]
  },
  {
   "cell_type": "code",
   "execution_count": 30,
   "metadata": {},
   "outputs": [],
   "source": [
    "columns = ['Month', 'DayofMonth', 'Origin', 'Dest', 'CRSDepTime',\n",
    "       'DepDelayMinutes', 'CRSArrTime', 'windspeedKmph', 'winddirDegree',\n",
    "       'precipMM', 'visibility', 'pressure', 'cloudcover', 'DewPointF',\n",
    "       'WindGustKmph', 'tempF', 'WindChillF', 'humidity']\n",
    "\n",
    "np.save('data/xtrain_Reg.npy',X_train,allow_pickle=True)\n",
    "np.save('data/xtest_Reg.npy',X_test,allow_pickle=True)\n",
    "np.save('data/ytrain_Reg.npy',Y_train,allow_pickle=True)\n",
    "np.save('data/ytest_Reg.npy',y_test,allow_pickle=True)\n",
    "\n",
    "# X_train = np.load('data/xtrain_Reg.npy',allow_pickle=True)\n",
    "# X_test = np.load('data/xtest_Reg.npy',allow_pickle=True)\n",
    "# Y_train = np.load('data/ytrain_Reg.npy',allow_pickle=True)\n",
    "# y_test = np.load('data/ytest_Reg.npy',allow_pickle=True)\n",
    "\n",
    "X_train = pd.DataFrame(X_train,columns=columns)\n",
    "X_test = pd.DataFrame(X_test,columns=columns)\n",
    "# Y_train = pd.DataFrame(Y_train,columns=['ArrDelayMinutes'])\n",
    "# y_test = pd.DataFrame(y_test,columns=['ArrDelayMinutes'])"
   ]
  },
  {
   "cell_type": "code",
   "execution_count": null,
   "metadata": {},
   "outputs": [],
   "source": []
  },
  {
   "cell_type": "code",
   "execution_count": 17,
   "metadata": {},
   "outputs": [],
   "source": [
    "#feature scaling\n",
    "sc_x = StandardScaler()\n",
    "X_train = sc_x.fit_transform(X_train)\n",
    "X_test = sc_x.transform(X_test)"
   ]
  },
  {
   "cell_type": "code",
   "execution_count": 18,
   "metadata": {},
   "outputs": [],
   "source": [
    "# Training with linear regression\n",
    "from sklearn.linear_model import LinearRegression\n",
    "reg = LinearRegression()\n",
    "reg.fit(X_train,Y_train)\n",
    "y_pred = reg.predict(X_test)"
   ]
  },
  {
   "cell_type": "code",
   "execution_count": 19,
   "metadata": {},
   "outputs": [
    {
     "name": "stdout",
     "output_type": "stream",
     "text": [
      "Linear reg results\n",
      "R2:0.921\n",
      "RMSE:20.252\n",
      "MAE:14.853\n"
     ]
    }
   ],
   "source": [
    "# Linear regression results\n",
    "print('Linear reg results')\n",
    "print('R2:%.3f' % r2_score(y_test,y_pred))\n",
    "print('RMSE:%.3f' % math.sqrt(mean_squared_error(y_test,y_pred)))\n",
    "print('MAE:%.3f' % mean_absolute_error(y_test,y_pred))"
   ]
  },
  {
   "cell_type": "code",
   "execution_count": 9,
   "metadata": {},
   "outputs": [],
   "source": [
    "# SVR \n",
    "# from sklearn.svm import SVR\n",
    "# from sklearn.pipeline import make_pipeline\n",
    "# regr = make_pipeline(StandardScaler(), SVR(C=1.0, epsilon=0.2))\n",
    "# regr.fit(X_train,Y_train)\n",
    "# y_pred = regr.predict(X_test)"
   ]
  },
  {
   "cell_type": "code",
   "execution_count": null,
   "metadata": {},
   "outputs": [],
   "source": [
    "# SVR results\n",
    "# print('SVR results')\n",
    "# print('R2:%.3f' % r2_score(y_test,y_pred))\n",
    "# print('RMSE:%.3f' % math.sqrt(mean_squared_error(y_test,y_pred)))\n",
    "# print('MAE:%.3f' % mean_absolute_error(y_test,y_pred))"
   ]
  },
  {
   "cell_type": "code",
   "execution_count": 20,
   "metadata": {},
   "outputs": [],
   "source": [
    "# ExtraTrees Regression\n",
    "from sklearn.ensemble import ExtraTreesRegressor\n",
    "reg = ExtraTreesRegressor(n_estimators=100, random_state=0)\n",
    "reg.fit(X_train, Y_train)\n",
    "y_pred = reg.predict(X_test)"
   ]
  },
  {
   "cell_type": "code",
   "execution_count": 21,
   "metadata": {},
   "outputs": [
    {
     "name": "stdout",
     "output_type": "stream",
     "text": [
      "ExtraTree results\n",
      "R2:0.943\n",
      "RMSE:17.143\n",
      "MAE:11.973\n"
     ]
    }
   ],
   "source": [
    "# ExtraTree results\n",
    "print('ExtraTree results')\n",
    "print('R2:%.3f' % r2_score(y_test,y_pred))\n",
    "print('RMSE:%.3f' % math.sqrt(mean_squared_error(y_test,y_pred)))\n",
    "print('MAE:%.3f' % mean_absolute_error(y_test,y_pred))"
   ]
  },
  {
   "cell_type": "code",
   "execution_count": 22,
   "metadata": {},
   "outputs": [],
   "source": [
    "# Gradient boosting \n",
    "from sklearn.ensemble import GradientBoostingRegressor\n",
    "reg = GradientBoostingRegressor(random_state=0)\n",
    "reg.fit(X_train, Y_train)\n",
    "y_pred = reg.predict(X_test)"
   ]
  },
  {
   "cell_type": "code",
   "execution_count": 23,
   "metadata": {},
   "outputs": [
    {
     "name": "stdout",
     "output_type": "stream",
     "text": [
      "Gradient Boosting results\n",
      "R2:0.943\n",
      "RMSE:17.127\n",
      "MAE:11.785\n"
     ]
    }
   ],
   "source": [
    "# Gradient Boosting results\n",
    "print('Gradient Boosting results')\n",
    "print('R2:%.3f' % r2_score(y_test,y_pred))\n",
    "print('RMSE:%.3f' % math.sqrt(mean_squared_error(y_test,y_pred)))\n",
    "print('MAE:%.3f' % mean_absolute_error(y_test,y_pred))"
   ]
  },
  {
   "cell_type": "code",
   "execution_count": null,
   "metadata": {},
   "outputs": [],
   "source": []
  }
 ],
 "metadata": {
  "interpreter": {
   "hash": "45751fe84994b2942bf1c9e5f4e350133d003b69fdc93d6621c097f25393677e"
  },
  "kernelspec": {
   "display_name": "Python 3.8.3 64-bit ('base': conda)",
   "language": "python",
   "name": "python3"
  },
  "language_info": {
   "codemirror_mode": {
    "name": "ipython",
    "version": 3
   },
   "file_extension": ".py",
   "mimetype": "text/x-python",
   "name": "python",
   "nbconvert_exporter": "python",
   "pygments_lexer": "ipython3",
   "version": "3.8.3"
  },
  "orig_nbformat": 4
 },
 "nbformat": 4,
 "nbformat_minor": 2
}
