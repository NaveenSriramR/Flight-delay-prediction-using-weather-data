{
 "cells": [
  {
   "cell_type": "markdown",
   "metadata": {
    "colab_type": "text",
    "id": "yvRFuFBLrsac"
   },
   "source": [
    "# Machine Learning Basics\n",
    "In this module, you'll be implementing a simple Linear Regressor and Logistic Regressor. You will be using the Salary Data for the tasks in this module. <br> <br>\n",
    "**Pipeline:**\n",
    "* Acquiring the data - done\n",
    "* Handling files and formats - done\n",
    "* Data Analysis - done\n",
    "* Prediction\n",
    "* Analysing results"
   ]
  },
  {
   "cell_type": "markdown",
   "metadata": {
    "colab_type": "text",
    "id": "AwvgLLICtyt_"
   },
   "source": [
    "## Imports\n",
    "You may require NumPy, pandas, matplotlib and scikit-learn for this module. Do not, however, use the inbuilt Linear and Logistic Regressors from scikit-learn."
   ]
  },
  {
   "cell_type": "code",
   "execution_count": 2,
   "metadata": {},
   "outputs": [],
   "source": [
    "import pandas as pd\n",
    "from functools import reduce\n",
    "from statistics import mean\n",
    "import numpy as np\n",
    "import math\n",
    "from sklearn.model_selection import train_test_split"
   ]
  },
  {
   "cell_type": "markdown",
   "metadata": {
    "colab_type": "text",
    "id": "yE5Sz6nKvjTS"
   },
   "source": [
    "## Dataset\n",
    "You can load the dataset and perform any dataset related operations here. Split the data into training and testing sets. Do this separately for the regression and classification problems."
   ]
  },
  {
   "cell_type": "code",
   "execution_count": 3,
   "metadata": {},
   "outputs": [],
   "source": [
    "dataset = pd.read_csv(\"data/salary_data.csv\")\n",
    "training_data, testing_data = train_test_split(dataset, test_size=0.2, random_state=2)\n",
    "exp = training_data['YearsExperience'].tolist()\n",
    "sal = training_data['Salary'].tolist()\n",
    "log_sal = np.where(training_data['Salary']<60000,1,0)\n",
    "exp_test = testing_data['YearsExperience'].tolist()\n",
    "sal_test = testing_data['Salary'].tolist()\n",
    "\n",
    "log_sal_test = np.where(testing_data['Salary']<60000,1,0)"
   ]
  },
  {
   "cell_type": "markdown",
   "metadata": {
    "colab_type": "text",
    "id": "VienPTZA1ZEr"
   },
   "source": [
    "## Task 1a - Linear Regressor\n",
    "Code your own Linear Regressor here, and fit it to your training data. You will be predicting salary based on years of experience."
   ]
  },
  {
   "cell_type": "code",
   "execution_count": 17,
   "metadata": {},
   "outputs": [
    {
     "name": "stdout",
     "output_type": "stream",
     "text": [
      "25922093.28794689\n",
      "w: 9569.586885432933   b: 24393.16915194787\n",
      "Step count:10000\n",
      "[46205, 39343, 61111, 57189, 98273, 93940]\n",
      "[36833.632103010685, 34919.714725924096, 67456.31013639606, 59800.640628049725, 92337.23603852169, 81810.69046454548]\n"
     ]
    }
   ],
   "source": [
    "w=13000\n",
    "b=2000\n",
    "n=0.01\n",
    "m=len(exp)\n",
    "# print(exp)\n",
    "# training \n",
    "for i in range(10000):\n",
    "    y_val = list(map(lambda x:w*x+b,exp))\n",
    "    cost = reduce(lambda a,b:a+b, list(map(lambda x,y:(x-y)**2,sal,y_val)),0)/m\n",
    "    grad_w= reduce(lambda a,b:a+b,list(map(lambda y1,y,x:(y1-y)*x,y_val,sal,exp)),0)*2/m\n",
    "    grad_b= reduce(lambda a,b:a+b,list(map(lambda y1,y:(y1-y),y_val,sal)),0)*2/m\n",
    "    w = w-(n*grad_w)\n",
    "    b = b-(n*grad_b)\n",
    "# print(y_val)    \n",
    "# print(cost)\n",
    "# # predicting\n",
    "# l=len(exp_test)\n",
    "# k=0\n",
    "# print(\"w:\",w,' ',\"b:\",b)\n",
    "# y_test = list(map(lambda x:w*x+b,exp_test))\n",
    "# print(\"Step count:10000\")\n",
    "# print(sal_test)\n",
    "# print(y_test)\n"
   ]
  },
  {
   "cell_type": "markdown",
   "metadata": {},
   "source": [
    "## Task 1b - Logistic Regression\n",
    "Code your own Logistic Regressor here, and fit it to your training data. You will first have to create a column, 'Salary<60000', which contains '1' if salary is less than 60000 and '0' otherwise. This is your target variable, which you will aim to predict based on years of experience."
   ]
  },
  {
   "cell_type": "code",
   "execution_count": 5,
   "metadata": {},
   "outputs": [
    {
     "name": "stderr",
     "output_type": "stream",
     "text": [
      "<ipython-input-5-8f550bad7982>:8: RuntimeWarning: divide by zero encountered in log\n",
      "  cost = (-1)*reduce(lambda a,b:a+b, list(map(lambda y,y_pred:y*np.log(y_pred)+(1-y)*np.log(1-y_pred),log_sal,y_val)),0)/m\n",
      "<ipython-input-5-8f550bad7982>:8: RuntimeWarning: invalid value encountered in multiply\n",
      "  cost = (-1)*reduce(lambda a,b:a+b, list(map(lambda y,y_pred:y*np.log(y_pred)+(1-y)*np.log(1-y_pred),log_sal,y_val)),0)/m\n"
     ]
    }
   ],
   "source": [
    "w1=13000\n",
    "b1=2000\n",
    "n=0.01\n",
    "m=len(exp)\n",
    "\n",
    "for i in range(10000):\n",
    "    y_val = list(map(lambda x:1/(1+np.exp(-1*(w1*x+b1))),exp))\n",
    "    cost = (-1)*reduce(lambda a,b:a+b, list(map(lambda y,y_pred:y*np.log(y_pred)+(1-y)*np.log(1-y_pred),log_sal,y_val)),0)/m\n",
    "    grad_w= reduce(lambda a,b:a+b,list(map(lambda y1,y,x:(y1-y)*x,y_val,log_sal,exp)),0)*2/m\n",
    "    grad_b= reduce(lambda a,b:a+b,list(map(lambda y1,y:(y1-y),y_val,log_sal)),0)*2/m\n",
    "    w1 = w1-(n*grad_w)\n",
    "    b1 = b1-(n*grad_b)\n"
   ]
  },
  {
   "cell_type": "markdown",
   "metadata": {
    "colab_type": "text",
    "id": "vaCu6RS52qYf"
   },
   "source": [
    "## Task 2 - Results\n",
    "Analyse the quality of the ML models you built using metrics such as R2, MAE and RMSE for the Linear Regressor, and Accuracy for the Logistic Regressor. Evaluate their performance on the testing set."
   ]
  },
  {
   "cell_type": "code",
   "execution_count": 11,
   "metadata": {},
   "outputs": [
    {
     "name": "stdout",
     "output_type": "stream",
     "text": [
      "R2 : 0.8886956733784535\n",
      "MAE : 6802.779572073973\n",
      "RMSE: 5091.374400684641\n"
     ]
    }
   ],
   "source": [
    "#Linear Regression analysis\n",
    "#Calculation for R2\n",
    "pred_sal = list(map(lambda x:w*x+b,exp_test))\n",
    "avg_sal = mean(sal_test)\n",
    "ss_res = reduce(lambda a,b:a+b,list( map(lambda y,y_pred:(y-y_pred)**2,sal_test,pred_sal) ),0)\n",
    "ss_tot = reduce(lambda a,b:a+b,list( map(lambda y:(y-avg_sal)**2,sal_test) ),0)\n",
    "r2 = 1-(ss_res/ss_tot)\n",
    "print(\"R2 :\",r2)\n",
    "\n",
    "#Calculation for MAE\n",
    "mae = reduce(lambda a,b:a+b,list( map(lambda y,y_pred:abs(y-y_pred),sal_test,pred_sal) ))/len(exp_test)\n",
    "print(\"MAE :\",mae)\n",
    "\n",
    "#Calculation for RMSE\n",
    "rmse = math.sqrt(reduce(lambda a,b:a+b, list(map(lambda x,y:(x-y)**2,sal,y_val)),0)/m)\n",
    "print(\"RMSE:\",rmse)"
   ]
  },
  {
   "cell_type": "code",
   "execution_count": 6,
   "metadata": {},
   "outputs": [
    {
     "name": "stdout",
     "output_type": "stream",
     "text": [
      "[1 1 0 1 0 0]\n",
      "[17555.499999989843, 15141.83333332476, 56174.16666663121, 46519.49999997087, 87551.83333327732, 74276.66666661935]\n",
      "Accuracy: 83.33333333333333\n"
     ]
    }
   ],
   "source": [
    "#Logistic Regression analysis\n",
    "y_test = list(map(lambda x:w1*x+b1,exp_test))\n",
    "print(log_sal_test)\n",
    "print(y_test)\n",
    "\n",
    "k=0\n",
    "l=len(exp_test)\n",
    "for i in range(l):\n",
    "    val=1 if y_test[i]<60000 else 0\n",
    "    if(val==log_sal_test[i]):\n",
    "        k+=1\n",
    "print(\"Accuracy:\",k*100/l)"
   ]
  },
  {
   "cell_type": "code",
   "execution_count": null,
   "metadata": {},
   "outputs": [],
   "source": []
  }
 ],
 "metadata": {
  "colab": {
   "name": "Untitled15.ipynb",
   "provenance": [],
   "version": "0.3.2"
  },
  "interpreter": {
   "hash": "45751fe84994b2942bf1c9e5f4e350133d003b69fdc93d6621c097f25393677e"
  },
  "kernelspec": {
   "display_name": "Python 3.8.3 64-bit ('base': conda)",
   "name": "python3"
  },
  "language_info": {
   "codemirror_mode": {
    "name": "ipython",
    "version": 3
   },
   "file_extension": ".py",
   "mimetype": "text/x-python",
   "name": "python",
   "nbconvert_exporter": "python",
   "pygments_lexer": "ipython3",
   "version": "3.8.3"
  }
 },
 "nbformat": 4,
 "nbformat_minor": 1
}
