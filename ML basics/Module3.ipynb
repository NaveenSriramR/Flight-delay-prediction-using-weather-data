{
 "cells": [
  {
   "cell_type": "markdown",
   "source": [
    "# Machine Learning Basics\n",
    "In this module, you'll be implementing a simple Linear Regressor and Logistic Regressor. You will be using the Salary Data for the tasks in this module. <br> <br>\n",
    "**Pipeline:**\n",
    "* Acquiring the data - done\n",
    "* Handling files and formats - done\n",
    "* Data Analysis - done\n",
    "* Prediction\n",
    "* Analysing results"
   ],
   "metadata": {
    "colab_type": "text",
    "id": "yvRFuFBLrsac"
   }
  },
  {
   "cell_type": "markdown",
   "source": [
    "## Imports\n",
    "You may require NumPy, pandas, matplotlib and scikit-learn for this module. Do not, however, use the inbuilt Linear and Logistic Regressors from scikit-learn."
   ],
   "metadata": {
    "colab_type": "text",
    "id": "AwvgLLICtyt_"
   }
  },
  {
   "cell_type": "code",
   "execution_count": 1,
   "source": [
    "import pandas as pd\r\n",
    "from functools import reduce\r\n",
    "from sklearn.model_selection import train_test_split"
   ],
   "outputs": [],
   "metadata": {}
  },
  {
   "cell_type": "markdown",
   "source": [
    "## Dataset\n",
    "You can load the dataset and perform any dataset related operations here. Split the data into training and testing sets. Do this separately for the regression and classification problems."
   ],
   "metadata": {
    "colab_type": "text",
    "id": "yE5Sz6nKvjTS"
   }
  },
  {
   "cell_type": "code",
   "execution_count": 2,
   "source": [
    "dataset = pd.read_csv(\"data/salary_data.csv\")\r\n",
    "training_data, testing_data = train_test_split(dataset, test_size=0.2, random_state=2)\r\n",
    "exp = training_data['YearsExperience'].tolist()\r\n",
    "sal = training_data['Salary'].tolist()\r\n",
    "exp_test = testing_data['YearsExperience'].tolist()\r\n",
    "sal_test = testing_data['Salary'].tolist()"
   ],
   "outputs": [],
   "metadata": {}
  },
  {
   "cell_type": "markdown",
   "source": [
    "## Task 1a - Linear Regressor\n",
    "Code your own Linear Regressor here, and fit it to your training data. You will be predicting salary based on years of experience."
   ],
   "metadata": {
    "colab_type": "text",
    "id": "VienPTZA1ZEr"
   }
  },
  {
   "cell_type": "code",
   "execution_count": 3,
   "source": [
    "w=13000\r\n",
    "b=2000\r\n",
    "n=0.01\r\n",
    "m=len(exp)\r\n",
    "# print(exp)\r\n",
    "# training \r\n",
    "for i in range(10000):\r\n",
    "    y_val = list(map(lambda x:w*x+b,exp))\r\n",
    "    cost = reduce(lambda a,b:a+b, list(map(lambda x,y:(x-y)**2,sal,y_val)),0)/m\r\n",
    "    grad_w= reduce(lambda a,b:a+b,list(map(lambda y1,y,x:(y1-y)*x,y_val,sal,exp)),0)*2/m\r\n",
    "    grad_b= reduce(lambda a,b:a+b,list(map(lambda y1,y:(y1-y),y_val,sal)),0)*2/m\r\n",
    "    w = w-(n*grad_w)\r\n",
    "    b = b-(n*grad_b)\r\n",
    "# print(y_val)    \r\n",
    "print(cost)\r\n",
    "# predicting\r\n",
    "l=len(exp_test)\r\n",
    "k=0\r\n",
    "print(\"w:\",w,' ',\"b:\",b)\r\n",
    "y_test = list(map(lambda x:w*x+b,exp_test))\r\n",
    "print(\"Step count:10000\")\r\n",
    "print(sal_test)\r\n",
    "print(y_test)\r\n",
    "for i in range(l):\r\n",
    "    if(y_test[i]==sal_test[i]):\r\n",
    "        k+=1\r\n",
    "print(\"Accuracy:\",k*100/l)"
   ],
   "outputs": [
    {
     "output_type": "stream",
     "name": "stdout",
     "text": [
      "25922093.28794689\n",
      "w: 9569.586885432933   b: 24393.16915194787\n",
      "Step count:10000\n",
      "[46205, 39343, 61111, 57189, 98273, 93940]\n",
      "[36833.632103010685, 34919.714725924096, 67456.31013639606, 59800.640628049725, 92337.23603852169, 81810.69046454548]\n",
      "Accuracy: 0.0\n"
     ]
    }
   ],
   "metadata": {}
  },
  {
   "cell_type": "markdown",
   "source": [
    "## Task 1b - Logistic Regression\n",
    "Code your own Logistic Regressor here, and fit it to your training data. You will first have to create a column, 'Salary<60000', which contains '1' if salary is less than 60000 and '0' otherwise. This is your target variable, which you will aim to predict based on years of experience."
   ],
   "metadata": {}
  },
  {
   "cell_type": "code",
   "execution_count": null,
   "source": [],
   "outputs": [],
   "metadata": {}
  },
  {
   "cell_type": "markdown",
   "source": [
    "## Task 2 - Results\n",
    "Analyse the quality of the ML models you built using metrics such as R2, MAE and RMSE for the Linear Regressor, and Accuracy for the Logistic Regressor. Evaluate their performance on the testing set."
   ],
   "metadata": {
    "colab_type": "text",
    "id": "vaCu6RS52qYf"
   }
  },
  {
   "cell_type": "code",
   "execution_count": null,
   "source": [],
   "outputs": [],
   "metadata": {}
  }
 ],
 "metadata": {
  "colab": {
   "name": "Untitled15.ipynb",
   "provenance": [],
   "version": "0.3.2"
  },
  "kernelspec": {
   "name": "python3",
   "display_name": "Python 3.8.3 64-bit ('base': conda)"
  },
  "language_info": {
   "codemirror_mode": {
    "name": "ipython",
    "version": 3
   },
   "file_extension": ".py",
   "mimetype": "text/x-python",
   "name": "python",
   "nbconvert_exporter": "python",
   "pygments_lexer": "ipython3",
   "version": "3.8.3"
  },
  "interpreter": {
   "hash": "45751fe84994b2942bf1c9e5f4e350133d003b69fdc93d6621c097f25393677e"
  }
 },
 "nbformat": 4,
 "nbformat_minor": 1
}